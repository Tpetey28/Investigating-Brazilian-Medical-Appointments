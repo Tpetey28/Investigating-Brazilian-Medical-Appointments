{
 "cells": [
  {
   "cell_type": "markdown",
   "metadata": {},
   "source": [
    "\n",
    "# Project: Investigating Brazilian Medical Appointments\n",
    "\n",
    "\n"
   ]
  },
  {
   "cell_type": "markdown",
   "metadata": {},
   "source": [
    "## Introduction\n",
    "\n",
    "### In this report, I am investigating a dataset that includes information about ~100k medical appointments in Brazil. I will be looking to answer several important questions in this analysis. \n",
    "\n",
    "### The first: Which characteristics make a person more likely to miss their appointment? \n",
    "\n",
    "#### This is an important question for the healthcare organization to understand to improve their efforts when comparing forecasted demand to actual demand. Ensuring that the organization is staffed appropriately is key in the business of healthcare as not having enough caregivers could be catastrophic to the care levels it can provide for it's patients. Whereas the salaries for healthcare professionals are expensive, and having too many caregivers could be very detrimental to the business in a financial aspect. Staffing as accurately as possible will be very important to maintaining the right level of care for patients while not overspending on caregiver compensation. \n",
    "\n",
    "\n",
    "### The second: Is our SMS reminder system effective and if so, is there a particular demographic of person that it is and is not effective for?\n",
    "\n",
    "#### It is also important for the business to understand the impact of the sms reminder system. If it is not effective, the organization should explore ways to improve the reminder, or simply remove the sms reminder system and trim the costs associated with providing and supporting the process. It may be that the sms system is only impactful for certain age groups. Knowing this could help the organization limit their costs by only providing the service for select demographics. \n",
    "\n",
    "\n",
    "## Let's get started!\n"
   ]
  },
  {
   "cell_type": "code",
   "execution_count": 160,
   "metadata": {},
   "outputs": [],
   "source": [
    "import pandas as pd\n",
    "import numpy as np\n",
    "import seaborn as sb\n",
    "import matplotlib.pyplot as plt\n",
    "\n",
    "%matplotlib inline\n",
    "%config InlineBackend.figure_format = 'retina'\n",
    "\n"
   ]
  },
  {
   "cell_type": "markdown",
   "metadata": {},
   "source": [
    "# Data Wrangling"
   ]
  },
  {
   "cell_type": "markdown",
   "metadata": {},
   "source": [
    "#### Below cell reads in the csv file using pandas, and then displays the first 5 rows of data using the df.head() function."
   ]
  },
  {
   "cell_type": "code",
   "execution_count": 161,
   "metadata": {
    "scrolled": true
   },
   "outputs": [
    {
     "data": {
      "text/html": [
       "<div>\n",
       "<style scoped>\n",
       "    .dataframe tbody tr th:only-of-type {\n",
       "        vertical-align: middle;\n",
       "    }\n",
       "\n",
       "    .dataframe tbody tr th {\n",
       "        vertical-align: top;\n",
       "    }\n",
       "\n",
       "    .dataframe thead th {\n",
       "        text-align: right;\n",
       "    }\n",
       "</style>\n",
       "<table border=\"1\" class=\"dataframe\">\n",
       "  <thead>\n",
       "    <tr style=\"text-align: right;\">\n",
       "      <th></th>\n",
       "      <th>PatientId</th>\n",
       "      <th>AppointmentID</th>\n",
       "      <th>Gender</th>\n",
       "      <th>ScheduledDay</th>\n",
       "      <th>AppointmentDay</th>\n",
       "      <th>Age</th>\n",
       "      <th>Neighbourhood</th>\n",
       "      <th>Scholarship</th>\n",
       "      <th>Hipertension</th>\n",
       "      <th>Diabetes</th>\n",
       "      <th>Alcoholism</th>\n",
       "      <th>Handcap</th>\n",
       "      <th>SMS_received</th>\n",
       "      <th>No-show</th>\n",
       "    </tr>\n",
       "  </thead>\n",
       "  <tbody>\n",
       "    <tr>\n",
       "      <th>0</th>\n",
       "      <td>2.987250e+13</td>\n",
       "      <td>5642903</td>\n",
       "      <td>F</td>\n",
       "      <td>2016-04-29T18:38:08Z</td>\n",
       "      <td>2016-04-29T00:00:00Z</td>\n",
       "      <td>62</td>\n",
       "      <td>JARDIM DA PENHA</td>\n",
       "      <td>0</td>\n",
       "      <td>1</td>\n",
       "      <td>0</td>\n",
       "      <td>0</td>\n",
       "      <td>0</td>\n",
       "      <td>0</td>\n",
       "      <td>No</td>\n",
       "    </tr>\n",
       "    <tr>\n",
       "      <th>1</th>\n",
       "      <td>5.589980e+14</td>\n",
       "      <td>5642503</td>\n",
       "      <td>M</td>\n",
       "      <td>2016-04-29T16:08:27Z</td>\n",
       "      <td>2016-04-29T00:00:00Z</td>\n",
       "      <td>56</td>\n",
       "      <td>JARDIM DA PENHA</td>\n",
       "      <td>0</td>\n",
       "      <td>0</td>\n",
       "      <td>0</td>\n",
       "      <td>0</td>\n",
       "      <td>0</td>\n",
       "      <td>0</td>\n",
       "      <td>No</td>\n",
       "    </tr>\n",
       "    <tr>\n",
       "      <th>2</th>\n",
       "      <td>4.262960e+12</td>\n",
       "      <td>5642549</td>\n",
       "      <td>F</td>\n",
       "      <td>2016-04-29T16:19:04Z</td>\n",
       "      <td>2016-04-29T00:00:00Z</td>\n",
       "      <td>62</td>\n",
       "      <td>MATA DA PRAIA</td>\n",
       "      <td>0</td>\n",
       "      <td>0</td>\n",
       "      <td>0</td>\n",
       "      <td>0</td>\n",
       "      <td>0</td>\n",
       "      <td>0</td>\n",
       "      <td>No</td>\n",
       "    </tr>\n",
       "    <tr>\n",
       "      <th>3</th>\n",
       "      <td>8.679510e+11</td>\n",
       "      <td>5642828</td>\n",
       "      <td>F</td>\n",
       "      <td>2016-04-29T17:29:31Z</td>\n",
       "      <td>2016-04-29T00:00:00Z</td>\n",
       "      <td>8</td>\n",
       "      <td>PONTAL DE CAMBURI</td>\n",
       "      <td>0</td>\n",
       "      <td>0</td>\n",
       "      <td>0</td>\n",
       "      <td>0</td>\n",
       "      <td>0</td>\n",
       "      <td>0</td>\n",
       "      <td>No</td>\n",
       "    </tr>\n",
       "    <tr>\n",
       "      <th>4</th>\n",
       "      <td>8.841190e+12</td>\n",
       "      <td>5642494</td>\n",
       "      <td>F</td>\n",
       "      <td>2016-04-29T16:07:23Z</td>\n",
       "      <td>2016-04-29T00:00:00Z</td>\n",
       "      <td>56</td>\n",
       "      <td>JARDIM DA PENHA</td>\n",
       "      <td>0</td>\n",
       "      <td>1</td>\n",
       "      <td>1</td>\n",
       "      <td>0</td>\n",
       "      <td>0</td>\n",
       "      <td>0</td>\n",
       "      <td>No</td>\n",
       "    </tr>\n",
       "  </tbody>\n",
       "</table>\n",
       "</div>"
      ],
      "text/plain": [
       "      PatientId  AppointmentID Gender          ScheduledDay  \\\n",
       "0  2.987250e+13        5642903      F  2016-04-29T18:38:08Z   \n",
       "1  5.589980e+14        5642503      M  2016-04-29T16:08:27Z   \n",
       "2  4.262960e+12        5642549      F  2016-04-29T16:19:04Z   \n",
       "3  8.679510e+11        5642828      F  2016-04-29T17:29:31Z   \n",
       "4  8.841190e+12        5642494      F  2016-04-29T16:07:23Z   \n",
       "\n",
       "         AppointmentDay  Age      Neighbourhood  Scholarship  Hipertension  \\\n",
       "0  2016-04-29T00:00:00Z   62    JARDIM DA PENHA            0             1   \n",
       "1  2016-04-29T00:00:00Z   56    JARDIM DA PENHA            0             0   \n",
       "2  2016-04-29T00:00:00Z   62      MATA DA PRAIA            0             0   \n",
       "3  2016-04-29T00:00:00Z    8  PONTAL DE CAMBURI            0             0   \n",
       "4  2016-04-29T00:00:00Z   56    JARDIM DA PENHA            0             1   \n",
       "\n",
       "   Diabetes  Alcoholism  Handcap  SMS_received No-show  \n",
       "0         0           0        0             0      No  \n",
       "1         0           0        0             0      No  \n",
       "2         0           0        0             0      No  \n",
       "3         0           0        0             0      No  \n",
       "4         1           0        0             0      No  "
      ]
     },
     "execution_count": 161,
     "metadata": {},
     "output_type": "execute_result"
    }
   ],
   "source": [
    "df = pd.read_csv('noshowapts.csv')\n",
    "df.head()"
   ]
  },
  {
   "cell_type": "markdown",
   "metadata": {},
   "source": [
    "#### Below displays the dimensions of the dataframe. 110527 rows, and 14 columns. "
   ]
  },
  {
   "cell_type": "code",
   "execution_count": 162,
   "metadata": {},
   "outputs": [
    {
     "data": {
      "text/plain": [
       "(110527, 14)"
      ]
     },
     "execution_count": 162,
     "metadata": {},
     "output_type": "execute_result"
    }
   ],
   "source": [
    "df.shape"
   ]
  },
  {
   "cell_type": "markdown",
   "metadata": {},
   "source": [
    "#### Below lists the datatypes for each of the 14 columns"
   ]
  },
  {
   "cell_type": "code",
   "execution_count": 163,
   "metadata": {
    "scrolled": true
   },
   "outputs": [
    {
     "data": {
      "text/plain": [
       "PatientId         float64\n",
       "AppointmentID       int64\n",
       "Gender             object\n",
       "ScheduledDay       object\n",
       "AppointmentDay     object\n",
       "Age                 int64\n",
       "Neighbourhood      object\n",
       "Scholarship         int64\n",
       "Hipertension        int64\n",
       "Diabetes            int64\n",
       "Alcoholism          int64\n",
       "Handcap             int64\n",
       "SMS_received        int64\n",
       "No-show            object\n",
       "dtype: object"
      ]
     },
     "execution_count": 163,
     "metadata": {},
     "output_type": "execute_result"
    }
   ],
   "source": [
    "df.dtypes"
   ]
  },
  {
   "cell_type": "markdown",
   "metadata": {},
   "source": [
    "#### Below checks the columns previously identified having object datatypes to confirm the actual datatypes in those columns. \n",
    "#### Conclusion: The columns having object as data type are all strings, which is normal for pandas.\n",
    "#### Note: The ScheduledDay and AppointmentDay appear as object/string datatypes and will need to be converted to datetime type. We will take care of that next."
   ]
  },
  {
   "cell_type": "code",
   "execution_count": 164,
   "metadata": {},
   "outputs": [
    {
     "name": "stdout",
     "output_type": "stream",
     "text": [
      "Gender Data Type: <class 'str'>\n",
      "ScheduledDay Data Type: <class 'str'>\n",
      "AppointmentDay Data Type: <class 'str'>\n",
      "Neighbourhood Data Type: <class 'str'>\n",
      "No-show Data Type: <class 'str'>\n"
     ]
    }
   ],
   "source": [
    "print('Gender Data Type: {}'.format(type(df['Gender'][0])))\n",
    "print('ScheduledDay Data Type: {}'.format(type(df['ScheduledDay'][0])))\n",
    "print('AppointmentDay Data Type: {}'.format(type(df['AppointmentDay'][0])))\n",
    "print('Neighbourhood Data Type: {}'.format(type(df['Neighbourhood'][0])))\n",
    "print('No-show Data Type: {}'.format(type(df['No-show'][0])))\n"
   ]
  },
  {
   "cell_type": "markdown",
   "metadata": {},
   "source": [
    "#### Below updates the ScheduledDay and AppointmentDay columns to the datetime type. "
   ]
  },
  {
   "cell_type": "code",
   "execution_count": 165,
   "metadata": {},
   "outputs": [],
   "source": [
    "df['ScheduledDay'] = pd.to_datetime(df['ScheduledDay']).dt.tz_localize(None)\n",
    "df['AppointmentDay'] = pd.to_datetime(df['AppointmentDay']).dt.tz_localize(None)"
   ]
  },
  {
   "cell_type": "markdown",
   "metadata": {},
   "source": [
    "#### Below displays summary of the dataframe and how many non-null rows exist for each column.\n",
    "#### Conclusion: There aren't any null rows in the dataframe. \n",
    "#### Note: The ScheduledDay & AppointmentDay columns are now of the datetime datatype."
   ]
  },
  {
   "cell_type": "code",
   "execution_count": 166,
   "metadata": {},
   "outputs": [
    {
     "name": "stdout",
     "output_type": "stream",
     "text": [
      "<class 'pandas.core.frame.DataFrame'>\n",
      "RangeIndex: 110527 entries, 0 to 110526\n",
      "Data columns (total 14 columns):\n",
      " #   Column          Non-Null Count   Dtype         \n",
      "---  ------          --------------   -----         \n",
      " 0   PatientId       110527 non-null  float64       \n",
      " 1   AppointmentID   110527 non-null  int64         \n",
      " 2   Gender          110527 non-null  object        \n",
      " 3   ScheduledDay    110527 non-null  datetime64[ns]\n",
      " 4   AppointmentDay  110527 non-null  datetime64[ns]\n",
      " 5   Age             110527 non-null  int64         \n",
      " 6   Neighbourhood   110527 non-null  object        \n",
      " 7   Scholarship     110527 non-null  int64         \n",
      " 8   Hipertension    110527 non-null  int64         \n",
      " 9   Diabetes        110527 non-null  int64         \n",
      " 10  Alcoholism      110527 non-null  int64         \n",
      " 11  Handcap         110527 non-null  int64         \n",
      " 12  SMS_received    110527 non-null  int64         \n",
      " 13  No-show         110527 non-null  object        \n",
      "dtypes: datetime64[ns](2), float64(1), int64(8), object(3)\n",
      "memory usage: 11.8+ MB\n"
     ]
    }
   ],
   "source": [
    "df.info()"
   ]
  },
  {
   "cell_type": "markdown",
   "metadata": {},
   "source": [
    "#### Below displays the number of unique values for each of the columns.\n",
    "\n",
    "#### The columns with 2 unique values are Yes or No columns. Meaning they do or do not have the chacteristic associated with the column name. \n"
   ]
  },
  {
   "cell_type": "code",
   "execution_count": 167,
   "metadata": {
    "scrolled": true
   },
   "outputs": [
    {
     "data": {
      "text/plain": [
       "PatientId          61744\n",
       "AppointmentID     110527\n",
       "Gender                 2\n",
       "ScheduledDay      103549\n",
       "AppointmentDay        27\n",
       "Age                  104\n",
       "Neighbourhood         81\n",
       "Scholarship            2\n",
       "Hipertension           2\n",
       "Diabetes               2\n",
       "Alcoholism             2\n",
       "Handcap                5\n",
       "SMS_received           2\n",
       "No-show                2\n",
       "dtype: int64"
      ]
     },
     "execution_count": 167,
     "metadata": {},
     "output_type": "execute_result"
    }
   ],
   "source": [
    "df.nunique()"
   ]
  },
  {
   "cell_type": "markdown",
   "metadata": {},
   "source": [
    "#### Below displays additional valuable statistics on each column. This only works for columns with numeric datatypes which is why some columns are missing. "
   ]
  },
  {
   "cell_type": "code",
   "execution_count": 168,
   "metadata": {},
   "outputs": [
    {
     "data": {
      "text/html": [
       "<div>\n",
       "<style scoped>\n",
       "    .dataframe tbody tr th:only-of-type {\n",
       "        vertical-align: middle;\n",
       "    }\n",
       "\n",
       "    .dataframe tbody tr th {\n",
       "        vertical-align: top;\n",
       "    }\n",
       "\n",
       "    .dataframe thead th {\n",
       "        text-align: right;\n",
       "    }\n",
       "</style>\n",
       "<table border=\"1\" class=\"dataframe\">\n",
       "  <thead>\n",
       "    <tr style=\"text-align: right;\">\n",
       "      <th></th>\n",
       "      <th>PatientId</th>\n",
       "      <th>AppointmentID</th>\n",
       "      <th>Age</th>\n",
       "      <th>Scholarship</th>\n",
       "      <th>Hipertension</th>\n",
       "      <th>Diabetes</th>\n",
       "      <th>Alcoholism</th>\n",
       "      <th>Handcap</th>\n",
       "      <th>SMS_received</th>\n",
       "    </tr>\n",
       "  </thead>\n",
       "  <tbody>\n",
       "    <tr>\n",
       "      <th>count</th>\n",
       "      <td>1.105270e+05</td>\n",
       "      <td>1.105270e+05</td>\n",
       "      <td>110527.000000</td>\n",
       "      <td>110527.000000</td>\n",
       "      <td>110527.000000</td>\n",
       "      <td>110527.000000</td>\n",
       "      <td>110527.000000</td>\n",
       "      <td>110527.000000</td>\n",
       "      <td>110527.000000</td>\n",
       "    </tr>\n",
       "    <tr>\n",
       "      <th>mean</th>\n",
       "      <td>1.474963e+14</td>\n",
       "      <td>5.675305e+06</td>\n",
       "      <td>37.088874</td>\n",
       "      <td>0.098266</td>\n",
       "      <td>0.197246</td>\n",
       "      <td>0.071865</td>\n",
       "      <td>0.030400</td>\n",
       "      <td>0.022248</td>\n",
       "      <td>0.321026</td>\n",
       "    </tr>\n",
       "    <tr>\n",
       "      <th>std</th>\n",
       "      <td>2.560949e+14</td>\n",
       "      <td>7.129575e+04</td>\n",
       "      <td>23.110205</td>\n",
       "      <td>0.297675</td>\n",
       "      <td>0.397921</td>\n",
       "      <td>0.258265</td>\n",
       "      <td>0.171686</td>\n",
       "      <td>0.161543</td>\n",
       "      <td>0.466873</td>\n",
       "    </tr>\n",
       "    <tr>\n",
       "      <th>min</th>\n",
       "      <td>3.920000e+04</td>\n",
       "      <td>5.030230e+06</td>\n",
       "      <td>-1.000000</td>\n",
       "      <td>0.000000</td>\n",
       "      <td>0.000000</td>\n",
       "      <td>0.000000</td>\n",
       "      <td>0.000000</td>\n",
       "      <td>0.000000</td>\n",
       "      <td>0.000000</td>\n",
       "    </tr>\n",
       "    <tr>\n",
       "      <th>25%</th>\n",
       "      <td>4.172615e+12</td>\n",
       "      <td>5.640286e+06</td>\n",
       "      <td>18.000000</td>\n",
       "      <td>0.000000</td>\n",
       "      <td>0.000000</td>\n",
       "      <td>0.000000</td>\n",
       "      <td>0.000000</td>\n",
       "      <td>0.000000</td>\n",
       "      <td>0.000000</td>\n",
       "    </tr>\n",
       "    <tr>\n",
       "      <th>50%</th>\n",
       "      <td>3.173180e+13</td>\n",
       "      <td>5.680573e+06</td>\n",
       "      <td>37.000000</td>\n",
       "      <td>0.000000</td>\n",
       "      <td>0.000000</td>\n",
       "      <td>0.000000</td>\n",
       "      <td>0.000000</td>\n",
       "      <td>0.000000</td>\n",
       "      <td>0.000000</td>\n",
       "    </tr>\n",
       "    <tr>\n",
       "      <th>75%</th>\n",
       "      <td>9.439170e+13</td>\n",
       "      <td>5.725524e+06</td>\n",
       "      <td>55.000000</td>\n",
       "      <td>0.000000</td>\n",
       "      <td>0.000000</td>\n",
       "      <td>0.000000</td>\n",
       "      <td>0.000000</td>\n",
       "      <td>0.000000</td>\n",
       "      <td>1.000000</td>\n",
       "    </tr>\n",
       "    <tr>\n",
       "      <th>max</th>\n",
       "      <td>9.999820e+14</td>\n",
       "      <td>5.790484e+06</td>\n",
       "      <td>115.000000</td>\n",
       "      <td>1.000000</td>\n",
       "      <td>1.000000</td>\n",
       "      <td>1.000000</td>\n",
       "      <td>1.000000</td>\n",
       "      <td>4.000000</td>\n",
       "      <td>1.000000</td>\n",
       "    </tr>\n",
       "  </tbody>\n",
       "</table>\n",
       "</div>"
      ],
      "text/plain": [
       "          PatientId  AppointmentID            Age    Scholarship  \\\n",
       "count  1.105270e+05   1.105270e+05  110527.000000  110527.000000   \n",
       "mean   1.474963e+14   5.675305e+06      37.088874       0.098266   \n",
       "std    2.560949e+14   7.129575e+04      23.110205       0.297675   \n",
       "min    3.920000e+04   5.030230e+06      -1.000000       0.000000   \n",
       "25%    4.172615e+12   5.640286e+06      18.000000       0.000000   \n",
       "50%    3.173180e+13   5.680573e+06      37.000000       0.000000   \n",
       "75%    9.439170e+13   5.725524e+06      55.000000       0.000000   \n",
       "max    9.999820e+14   5.790484e+06     115.000000       1.000000   \n",
       "\n",
       "        Hipertension       Diabetes     Alcoholism        Handcap  \\\n",
       "count  110527.000000  110527.000000  110527.000000  110527.000000   \n",
       "mean        0.197246       0.071865       0.030400       0.022248   \n",
       "std         0.397921       0.258265       0.171686       0.161543   \n",
       "min         0.000000       0.000000       0.000000       0.000000   \n",
       "25%         0.000000       0.000000       0.000000       0.000000   \n",
       "50%         0.000000       0.000000       0.000000       0.000000   \n",
       "75%         0.000000       0.000000       0.000000       0.000000   \n",
       "max         1.000000       1.000000       1.000000       4.000000   \n",
       "\n",
       "        SMS_received  \n",
       "count  110527.000000  \n",
       "mean        0.321026  \n",
       "std         0.466873  \n",
       "min         0.000000  \n",
       "25%         0.000000  \n",
       "50%         0.000000  \n",
       "75%         1.000000  \n",
       "max         1.000000  "
      ]
     },
     "execution_count": 168,
     "metadata": {},
     "output_type": "execute_result"
    }
   ],
   "source": [
    "df.describe()"
   ]
  },
  {
   "cell_type": "markdown",
   "metadata": {},
   "source": [
    "#### Below checks the dataframe for duplicate values.\n",
    "#### Conclusion: There are no duplicate rows."
   ]
  },
  {
   "cell_type": "code",
   "execution_count": 169,
   "metadata": {},
   "outputs": [
    {
     "data": {
      "text/plain": [
       "0"
      ]
     },
     "execution_count": 169,
     "metadata": {},
     "output_type": "execute_result"
    }
   ],
   "source": [
    "sum(df.duplicated())"
   ]
  },
  {
   "cell_type": "markdown",
   "metadata": {},
   "source": [
    "#### Below renames the 'Neighborhood' and 'Scholarship' columns to 'Location' and 'Welfare' respectively. This is done to make it clear for people consuming the report as the original names may be confusing. "
   ]
  },
  {
   "cell_type": "code",
   "execution_count": 170,
   "metadata": {
    "scrolled": true
   },
   "outputs": [
    {
     "data": {
      "text/html": [
       "<div>\n",
       "<style scoped>\n",
       "    .dataframe tbody tr th:only-of-type {\n",
       "        vertical-align: middle;\n",
       "    }\n",
       "\n",
       "    .dataframe tbody tr th {\n",
       "        vertical-align: top;\n",
       "    }\n",
       "\n",
       "    .dataframe thead th {\n",
       "        text-align: right;\n",
       "    }\n",
       "</style>\n",
       "<table border=\"1\" class=\"dataframe\">\n",
       "  <thead>\n",
       "    <tr style=\"text-align: right;\">\n",
       "      <th></th>\n",
       "      <th>PatientId</th>\n",
       "      <th>AppointmentID</th>\n",
       "      <th>Gender</th>\n",
       "      <th>ScheduledDay</th>\n",
       "      <th>AppointmentDay</th>\n",
       "      <th>Age</th>\n",
       "      <th>Location</th>\n",
       "      <th>Welfare</th>\n",
       "      <th>Hipertension</th>\n",
       "      <th>Diabetes</th>\n",
       "      <th>Alcoholism</th>\n",
       "      <th>Handcap</th>\n",
       "      <th>SMS_received</th>\n",
       "      <th>No-show</th>\n",
       "    </tr>\n",
       "  </thead>\n",
       "  <tbody>\n",
       "    <tr>\n",
       "      <th>0</th>\n",
       "      <td>2.987250e+13</td>\n",
       "      <td>5642903</td>\n",
       "      <td>F</td>\n",
       "      <td>2016-04-29 18:38:08</td>\n",
       "      <td>2016-04-29</td>\n",
       "      <td>62</td>\n",
       "      <td>JARDIM DA PENHA</td>\n",
       "      <td>0</td>\n",
       "      <td>1</td>\n",
       "      <td>0</td>\n",
       "      <td>0</td>\n",
       "      <td>0</td>\n",
       "      <td>0</td>\n",
       "      <td>No</td>\n",
       "    </tr>\n",
       "    <tr>\n",
       "      <th>1</th>\n",
       "      <td>5.589980e+14</td>\n",
       "      <td>5642503</td>\n",
       "      <td>M</td>\n",
       "      <td>2016-04-29 16:08:27</td>\n",
       "      <td>2016-04-29</td>\n",
       "      <td>56</td>\n",
       "      <td>JARDIM DA PENHA</td>\n",
       "      <td>0</td>\n",
       "      <td>0</td>\n",
       "      <td>0</td>\n",
       "      <td>0</td>\n",
       "      <td>0</td>\n",
       "      <td>0</td>\n",
       "      <td>No</td>\n",
       "    </tr>\n",
       "    <tr>\n",
       "      <th>2</th>\n",
       "      <td>4.262960e+12</td>\n",
       "      <td>5642549</td>\n",
       "      <td>F</td>\n",
       "      <td>2016-04-29 16:19:04</td>\n",
       "      <td>2016-04-29</td>\n",
       "      <td>62</td>\n",
       "      <td>MATA DA PRAIA</td>\n",
       "      <td>0</td>\n",
       "      <td>0</td>\n",
       "      <td>0</td>\n",
       "      <td>0</td>\n",
       "      <td>0</td>\n",
       "      <td>0</td>\n",
       "      <td>No</td>\n",
       "    </tr>\n",
       "    <tr>\n",
       "      <th>3</th>\n",
       "      <td>8.679510e+11</td>\n",
       "      <td>5642828</td>\n",
       "      <td>F</td>\n",
       "      <td>2016-04-29 17:29:31</td>\n",
       "      <td>2016-04-29</td>\n",
       "      <td>8</td>\n",
       "      <td>PONTAL DE CAMBURI</td>\n",
       "      <td>0</td>\n",
       "      <td>0</td>\n",
       "      <td>0</td>\n",
       "      <td>0</td>\n",
       "      <td>0</td>\n",
       "      <td>0</td>\n",
       "      <td>No</td>\n",
       "    </tr>\n",
       "    <tr>\n",
       "      <th>4</th>\n",
       "      <td>8.841190e+12</td>\n",
       "      <td>5642494</td>\n",
       "      <td>F</td>\n",
       "      <td>2016-04-29 16:07:23</td>\n",
       "      <td>2016-04-29</td>\n",
       "      <td>56</td>\n",
       "      <td>JARDIM DA PENHA</td>\n",
       "      <td>0</td>\n",
       "      <td>1</td>\n",
       "      <td>1</td>\n",
       "      <td>0</td>\n",
       "      <td>0</td>\n",
       "      <td>0</td>\n",
       "      <td>No</td>\n",
       "    </tr>\n",
       "  </tbody>\n",
       "</table>\n",
       "</div>"
      ],
      "text/plain": [
       "      PatientId  AppointmentID Gender        ScheduledDay AppointmentDay  Age  \\\n",
       "0  2.987250e+13        5642903      F 2016-04-29 18:38:08     2016-04-29   62   \n",
       "1  5.589980e+14        5642503      M 2016-04-29 16:08:27     2016-04-29   56   \n",
       "2  4.262960e+12        5642549      F 2016-04-29 16:19:04     2016-04-29   62   \n",
       "3  8.679510e+11        5642828      F 2016-04-29 17:29:31     2016-04-29    8   \n",
       "4  8.841190e+12        5642494      F 2016-04-29 16:07:23     2016-04-29   56   \n",
       "\n",
       "            Location  Welfare  Hipertension  Diabetes  Alcoholism  Handcap  \\\n",
       "0    JARDIM DA PENHA        0             1         0           0        0   \n",
       "1    JARDIM DA PENHA        0             0         0           0        0   \n",
       "2      MATA DA PRAIA        0             0         0           0        0   \n",
       "3  PONTAL DE CAMBURI        0             0         0           0        0   \n",
       "4    JARDIM DA PENHA        0             1         1           0        0   \n",
       "\n",
       "   SMS_received No-show  \n",
       "0             0      No  \n",
       "1             0      No  \n",
       "2             0      No  \n",
       "3             0      No  \n",
       "4             0      No  "
      ]
     },
     "execution_count": 170,
     "metadata": {},
     "output_type": "execute_result"
    }
   ],
   "source": [
    "df.rename(columns = {'Neighbourhood': 'Location', 'Scholarship': 'Welfare'}, inplace = True)\n",
    "df.head()"
   ]
  },
  {
   "cell_type": "markdown",
   "metadata": {},
   "source": [
    "#### Below cell drops the PatientId,  AppointmentID, and ScheduledDay columns as those will not be needed for analysis. "
   ]
  },
  {
   "cell_type": "code",
   "execution_count": 171,
   "metadata": {
    "scrolled": false
   },
   "outputs": [
    {
     "data": {
      "text/html": [
       "<div>\n",
       "<style scoped>\n",
       "    .dataframe tbody tr th:only-of-type {\n",
       "        vertical-align: middle;\n",
       "    }\n",
       "\n",
       "    .dataframe tbody tr th {\n",
       "        vertical-align: top;\n",
       "    }\n",
       "\n",
       "    .dataframe thead th {\n",
       "        text-align: right;\n",
       "    }\n",
       "</style>\n",
       "<table border=\"1\" class=\"dataframe\">\n",
       "  <thead>\n",
       "    <tr style=\"text-align: right;\">\n",
       "      <th></th>\n",
       "      <th>Gender</th>\n",
       "      <th>AppointmentDay</th>\n",
       "      <th>Age</th>\n",
       "      <th>Location</th>\n",
       "      <th>Welfare</th>\n",
       "      <th>Hipertension</th>\n",
       "      <th>Diabetes</th>\n",
       "      <th>Alcoholism</th>\n",
       "      <th>Handcap</th>\n",
       "      <th>SMS_received</th>\n",
       "      <th>No-show</th>\n",
       "    </tr>\n",
       "  </thead>\n",
       "  <tbody>\n",
       "    <tr>\n",
       "      <th>0</th>\n",
       "      <td>F</td>\n",
       "      <td>2016-04-29</td>\n",
       "      <td>62</td>\n",
       "      <td>JARDIM DA PENHA</td>\n",
       "      <td>0</td>\n",
       "      <td>1</td>\n",
       "      <td>0</td>\n",
       "      <td>0</td>\n",
       "      <td>0</td>\n",
       "      <td>0</td>\n",
       "      <td>No</td>\n",
       "    </tr>\n",
       "    <tr>\n",
       "      <th>1</th>\n",
       "      <td>M</td>\n",
       "      <td>2016-04-29</td>\n",
       "      <td>56</td>\n",
       "      <td>JARDIM DA PENHA</td>\n",
       "      <td>0</td>\n",
       "      <td>0</td>\n",
       "      <td>0</td>\n",
       "      <td>0</td>\n",
       "      <td>0</td>\n",
       "      <td>0</td>\n",
       "      <td>No</td>\n",
       "    </tr>\n",
       "    <tr>\n",
       "      <th>2</th>\n",
       "      <td>F</td>\n",
       "      <td>2016-04-29</td>\n",
       "      <td>62</td>\n",
       "      <td>MATA DA PRAIA</td>\n",
       "      <td>0</td>\n",
       "      <td>0</td>\n",
       "      <td>0</td>\n",
       "      <td>0</td>\n",
       "      <td>0</td>\n",
       "      <td>0</td>\n",
       "      <td>No</td>\n",
       "    </tr>\n",
       "    <tr>\n",
       "      <th>3</th>\n",
       "      <td>F</td>\n",
       "      <td>2016-04-29</td>\n",
       "      <td>8</td>\n",
       "      <td>PONTAL DE CAMBURI</td>\n",
       "      <td>0</td>\n",
       "      <td>0</td>\n",
       "      <td>0</td>\n",
       "      <td>0</td>\n",
       "      <td>0</td>\n",
       "      <td>0</td>\n",
       "      <td>No</td>\n",
       "    </tr>\n",
       "    <tr>\n",
       "      <th>4</th>\n",
       "      <td>F</td>\n",
       "      <td>2016-04-29</td>\n",
       "      <td>56</td>\n",
       "      <td>JARDIM DA PENHA</td>\n",
       "      <td>0</td>\n",
       "      <td>1</td>\n",
       "      <td>1</td>\n",
       "      <td>0</td>\n",
       "      <td>0</td>\n",
       "      <td>0</td>\n",
       "      <td>No</td>\n",
       "    </tr>\n",
       "  </tbody>\n",
       "</table>\n",
       "</div>"
      ],
      "text/plain": [
       "  Gender AppointmentDay  Age           Location  Welfare  Hipertension  \\\n",
       "0      F     2016-04-29   62    JARDIM DA PENHA        0             1   \n",
       "1      M     2016-04-29   56    JARDIM DA PENHA        0             0   \n",
       "2      F     2016-04-29   62      MATA DA PRAIA        0             0   \n",
       "3      F     2016-04-29    8  PONTAL DE CAMBURI        0             0   \n",
       "4      F     2016-04-29   56    JARDIM DA PENHA        0             1   \n",
       "\n",
       "   Diabetes  Alcoholism  Handcap  SMS_received No-show  \n",
       "0         0           0        0             0      No  \n",
       "1         0           0        0             0      No  \n",
       "2         0           0        0             0      No  \n",
       "3         0           0        0             0      No  \n",
       "4         1           0        0             0      No  "
      ]
     },
     "execution_count": 171,
     "metadata": {},
     "output_type": "execute_result"
    }
   ],
   "source": [
    "df.drop(['PatientId', 'AppointmentID', 'ScheduledDay'], axis = 1, inplace = True)\n",
    "df.head()"
   ]
  },
  {
   "cell_type": "markdown",
   "metadata": {},
   "source": [
    "#### Below creates a new column splitting the age into 4 categories. "
   ]
  },
  {
   "cell_type": "code",
   "execution_count": 172,
   "metadata": {},
   "outputs": [
    {
     "data": {
      "text/html": [
       "<div>\n",
       "<style scoped>\n",
       "    .dataframe tbody tr th:only-of-type {\n",
       "        vertical-align: middle;\n",
       "    }\n",
       "\n",
       "    .dataframe tbody tr th {\n",
       "        vertical-align: top;\n",
       "    }\n",
       "\n",
       "    .dataframe thead th {\n",
       "        text-align: right;\n",
       "    }\n",
       "</style>\n",
       "<table border=\"1\" class=\"dataframe\">\n",
       "  <thead>\n",
       "    <tr style=\"text-align: right;\">\n",
       "      <th></th>\n",
       "      <th>Gender</th>\n",
       "      <th>AppointmentDay</th>\n",
       "      <th>Age</th>\n",
       "      <th>Location</th>\n",
       "      <th>Welfare</th>\n",
       "      <th>Hipertension</th>\n",
       "      <th>Diabetes</th>\n",
       "      <th>Alcoholism</th>\n",
       "      <th>Handcap</th>\n",
       "      <th>SMS_received</th>\n",
       "      <th>No-show</th>\n",
       "      <th>age_group</th>\n",
       "    </tr>\n",
       "  </thead>\n",
       "  <tbody>\n",
       "    <tr>\n",
       "      <th>0</th>\n",
       "      <td>F</td>\n",
       "      <td>2016-04-29</td>\n",
       "      <td>62</td>\n",
       "      <td>JARDIM DA PENHA</td>\n",
       "      <td>0</td>\n",
       "      <td>1</td>\n",
       "      <td>0</td>\n",
       "      <td>0</td>\n",
       "      <td>0</td>\n",
       "      <td>0</td>\n",
       "      <td>No</td>\n",
       "      <td>50 - 74</td>\n",
       "    </tr>\n",
       "    <tr>\n",
       "      <th>1</th>\n",
       "      <td>M</td>\n",
       "      <td>2016-04-29</td>\n",
       "      <td>56</td>\n",
       "      <td>JARDIM DA PENHA</td>\n",
       "      <td>0</td>\n",
       "      <td>0</td>\n",
       "      <td>0</td>\n",
       "      <td>0</td>\n",
       "      <td>0</td>\n",
       "      <td>0</td>\n",
       "      <td>No</td>\n",
       "      <td>50 - 74</td>\n",
       "    </tr>\n",
       "    <tr>\n",
       "      <th>2</th>\n",
       "      <td>F</td>\n",
       "      <td>2016-04-29</td>\n",
       "      <td>62</td>\n",
       "      <td>MATA DA PRAIA</td>\n",
       "      <td>0</td>\n",
       "      <td>0</td>\n",
       "      <td>0</td>\n",
       "      <td>0</td>\n",
       "      <td>0</td>\n",
       "      <td>0</td>\n",
       "      <td>No</td>\n",
       "      <td>50 - 74</td>\n",
       "    </tr>\n",
       "    <tr>\n",
       "      <th>3</th>\n",
       "      <td>F</td>\n",
       "      <td>2016-04-29</td>\n",
       "      <td>8</td>\n",
       "      <td>PONTAL DE CAMBURI</td>\n",
       "      <td>0</td>\n",
       "      <td>0</td>\n",
       "      <td>0</td>\n",
       "      <td>0</td>\n",
       "      <td>0</td>\n",
       "      <td>0</td>\n",
       "      <td>No</td>\n",
       "      <td>Under 25</td>\n",
       "    </tr>\n",
       "    <tr>\n",
       "      <th>4</th>\n",
       "      <td>F</td>\n",
       "      <td>2016-04-29</td>\n",
       "      <td>56</td>\n",
       "      <td>JARDIM DA PENHA</td>\n",
       "      <td>0</td>\n",
       "      <td>1</td>\n",
       "      <td>1</td>\n",
       "      <td>0</td>\n",
       "      <td>0</td>\n",
       "      <td>0</td>\n",
       "      <td>No</td>\n",
       "      <td>50 - 74</td>\n",
       "    </tr>\n",
       "  </tbody>\n",
       "</table>\n",
       "</div>"
      ],
      "text/plain": [
       "  Gender AppointmentDay  Age           Location  Welfare  Hipertension  \\\n",
       "0      F     2016-04-29   62    JARDIM DA PENHA        0             1   \n",
       "1      M     2016-04-29   56    JARDIM DA PENHA        0             0   \n",
       "2      F     2016-04-29   62      MATA DA PRAIA        0             0   \n",
       "3      F     2016-04-29    8  PONTAL DE CAMBURI        0             0   \n",
       "4      F     2016-04-29   56    JARDIM DA PENHA        0             1   \n",
       "\n",
       "   Diabetes  Alcoholism  Handcap  SMS_received No-show age_group  \n",
       "0         0           0        0             0      No   50 - 74  \n",
       "1         0           0        0             0      No   50 - 74  \n",
       "2         0           0        0             0      No   50 - 74  \n",
       "3         0           0        0             0      No  Under 25  \n",
       "4         1           0        0             0      No   50 - 74  "
      ]
     },
     "execution_count": 172,
     "metadata": {},
     "output_type": "execute_result"
    }
   ],
   "source": [
    "def f(row):\n",
    "    if row['Age'] >= 75:\n",
    "        group = \"75+\"\n",
    "    elif row['Age'] < 25:\n",
    "        group = \"Under 25\"\n",
    "    elif row['Age'] >= 25 and row['Age'] <50:\n",
    "        group = \"25 - 49\"\n",
    "    else:\n",
    "        group = \"50 - 74\"\n",
    "    return group\n",
    "\n",
    "df['age_group'] = df.apply(f, axis=1)\n",
    "df.head()"
   ]
  },
  {
   "cell_type": "markdown",
   "metadata": {},
   "source": [
    "<a id='eda'></a>\n",
    "## Exploratory Data Analysis\n",
    "\n",
    "\n",
    "### Research Question 1: Which characteristics make a person more likely to miss their appointment?\n",
    "#### This question is important for the healthcare business to understand which characteristics make a person more likely to miss an appointment. The insights and knowledge gained here will be useful to more accurately plan for demand. "
   ]
  },
  {
   "cell_type": "markdown",
   "metadata": {
    "collapsed": true
   },
   "source": [
    "#### First, let us look at the % of appointments that are missed.  \n",
    "\n",
    "#### Conclusion: ~ 20% of all appointments are missed. \n"
   ]
  },
  {
   "cell_type": "code",
   "execution_count": 173,
   "metadata": {},
   "outputs": [
    {
     "data": {
      "text/plain": [
       "No     79.806744\n",
       "Yes    20.193256\n",
       "Name: No-show, dtype: float64"
      ]
     },
     "execution_count": 173,
     "metadata": {},
     "output_type": "execute_result"
    }
   ],
   "source": [
    "df['No-show'].value_counts(normalize = True)*100"
   ]
  },
  {
   "cell_type": "code",
   "execution_count": 174,
   "metadata": {},
   "outputs": [
    {
     "data": {
      "image/png": "[encoded data removed]",
      "text/plain": [
       "<Figure size 432x288 with 1 Axes>"
      ]
     },
     "metadata": {
      "image/png": {
       "height": 231,
       "width": 244
      }
     },
     "output_type": "display_data"
    }
   ],
   "source": [
    "#Creates simple pie-chart visualizing the % of missed appointments overall.\n",
    "y = np.array(df['No-show'].value_counts())\n",
    "\n",
    "pielabels = ['Show', 'No Show']\n",
    "\n",
    "plt.pie(y, labels = pielabels);"
   ]
  },
  {
   "cell_type": "markdown",
   "metadata": {},
   "source": [
    "#### Next, let's see if we can find any trends amongst those who missed appointments. To do this, we will first create 2  new dataframes splitting apart those who missed the appointment and those who did not miss. The below cells split the data and verify that the split was accurate. "
   ]
  },
  {
   "cell_type": "code",
   "execution_count": 175,
   "metadata": {},
   "outputs": [],
   "source": [
    "df.rename(columns = {'No-show': 'No_show'}, inplace = True)\n",
    "\n",
    "df_show = df.query('No_show == \"No\"')\n",
    "df_no_show = df.query('No_show == \"Yes\"')"
   ]
  },
  {
   "cell_type": "code",
   "execution_count": 176,
   "metadata": {},
   "outputs": [
    {
     "data": {
      "text/html": [
       "<div>\n",
       "<style scoped>\n",
       "    .dataframe tbody tr th:only-of-type {\n",
       "        vertical-align: middle;\n",
       "    }\n",
       "\n",
       "    .dataframe tbody tr th {\n",
       "        vertical-align: top;\n",
       "    }\n",
       "\n",
       "    .dataframe thead th {\n",
       "        text-align: right;\n",
       "    }\n",
       "</style>\n",
       "<table border=\"1\" class=\"dataframe\">\n",
       "  <thead>\n",
       "    <tr style=\"text-align: right;\">\n",
       "      <th></th>\n",
       "      <th>Gender</th>\n",
       "      <th>AppointmentDay</th>\n",
       "      <th>Age</th>\n",
       "      <th>Location</th>\n",
       "      <th>Welfare</th>\n",
       "      <th>Hipertension</th>\n",
       "      <th>Diabetes</th>\n",
       "      <th>Alcoholism</th>\n",
       "      <th>Handcap</th>\n",
       "      <th>SMS_received</th>\n",
       "      <th>No_show</th>\n",
       "      <th>age_group</th>\n",
       "    </tr>\n",
       "  </thead>\n",
       "  <tbody>\n",
       "    <tr>\n",
       "      <th>0</th>\n",
       "      <td>F</td>\n",
       "      <td>2016-04-29</td>\n",
       "      <td>62</td>\n",
       "      <td>JARDIM DA PENHA</td>\n",
       "      <td>0</td>\n",
       "      <td>1</td>\n",
       "      <td>0</td>\n",
       "      <td>0</td>\n",
       "      <td>0</td>\n",
       "      <td>0</td>\n",
       "      <td>No</td>\n",
       "      <td>50 - 74</td>\n",
       "    </tr>\n",
       "    <tr>\n",
       "      <th>1</th>\n",
       "      <td>M</td>\n",
       "      <td>2016-04-29</td>\n",
       "      <td>56</td>\n",
       "      <td>JARDIM DA PENHA</td>\n",
       "      <td>0</td>\n",
       "      <td>0</td>\n",
       "      <td>0</td>\n",
       "      <td>0</td>\n",
       "      <td>0</td>\n",
       "      <td>0</td>\n",
       "      <td>No</td>\n",
       "      <td>50 - 74</td>\n",
       "    </tr>\n",
       "    <tr>\n",
       "      <th>2</th>\n",
       "      <td>F</td>\n",
       "      <td>2016-04-29</td>\n",
       "      <td>62</td>\n",
       "      <td>MATA DA PRAIA</td>\n",
       "      <td>0</td>\n",
       "      <td>0</td>\n",
       "      <td>0</td>\n",
       "      <td>0</td>\n",
       "      <td>0</td>\n",
       "      <td>0</td>\n",
       "      <td>No</td>\n",
       "      <td>50 - 74</td>\n",
       "    </tr>\n",
       "    <tr>\n",
       "      <th>3</th>\n",
       "      <td>F</td>\n",
       "      <td>2016-04-29</td>\n",
       "      <td>8</td>\n",
       "      <td>PONTAL DE CAMBURI</td>\n",
       "      <td>0</td>\n",
       "      <td>0</td>\n",
       "      <td>0</td>\n",
       "      <td>0</td>\n",
       "      <td>0</td>\n",
       "      <td>0</td>\n",
       "      <td>No</td>\n",
       "      <td>Under 25</td>\n",
       "    </tr>\n",
       "    <tr>\n",
       "      <th>4</th>\n",
       "      <td>F</td>\n",
       "      <td>2016-04-29</td>\n",
       "      <td>56</td>\n",
       "      <td>JARDIM DA PENHA</td>\n",
       "      <td>0</td>\n",
       "      <td>1</td>\n",
       "      <td>1</td>\n",
       "      <td>0</td>\n",
       "      <td>0</td>\n",
       "      <td>0</td>\n",
       "      <td>No</td>\n",
       "      <td>50 - 74</td>\n",
       "    </tr>\n",
       "  </tbody>\n",
       "</table>\n",
       "</div>"
      ],
      "text/plain": [
       "  Gender AppointmentDay  Age           Location  Welfare  Hipertension  \\\n",
       "0      F     2016-04-29   62    JARDIM DA PENHA        0             1   \n",
       "1      M     2016-04-29   56    JARDIM DA PENHA        0             0   \n",
       "2      F     2016-04-29   62      MATA DA PRAIA        0             0   \n",
       "3      F     2016-04-29    8  PONTAL DE CAMBURI        0             0   \n",
       "4      F     2016-04-29   56    JARDIM DA PENHA        0             1   \n",
       "\n",
       "   Diabetes  Alcoholism  Handcap  SMS_received No_show age_group  \n",
       "0         0           0        0             0      No   50 - 74  \n",
       "1         0           0        0             0      No   50 - 74  \n",
       "2         0           0        0             0      No   50 - 74  \n",
       "3         0           0        0             0      No  Under 25  \n",
       "4         1           0        0             0      No   50 - 74  "
      ]
     },
     "execution_count": 176,
     "metadata": {},
     "output_type": "execute_result"
    }
   ],
   "source": [
    "df_show.head()"
   ]
  },
  {
   "cell_type": "code",
   "execution_count": 177,
   "metadata": {},
   "outputs": [
    {
     "data": {
      "text/plain": [
       "Gender              2\n",
       "AppointmentDay     27\n",
       "Age               104\n",
       "Location           80\n",
       "Welfare             2\n",
       "Hipertension        2\n",
       "Diabetes            2\n",
       "Alcoholism          2\n",
       "Handcap             5\n",
       "SMS_received        2\n",
       "No_show             1\n",
       "age_group           4\n",
       "dtype: int64"
      ]
     },
     "execution_count": 177,
     "metadata": {},
     "output_type": "execute_result"
    }
   ],
   "source": [
    "#displays unique values by column. This is done to show that the 'No_show' column only has 1 value in this new dataframe. \n",
    "df_show.nunique()"
   ]
  },
  {
   "cell_type": "code",
   "execution_count": 178,
   "metadata": {},
   "outputs": [
    {
     "data": {
      "text/html": [
       "<div>\n",
       "<style scoped>\n",
       "    .dataframe tbody tr th:only-of-type {\n",
       "        vertical-align: middle;\n",
       "    }\n",
       "\n",
       "    .dataframe tbody tr th {\n",
       "        vertical-align: top;\n",
       "    }\n",
       "\n",
       "    .dataframe thead th {\n",
       "        text-align: right;\n",
       "    }\n",
       "</style>\n",
       "<table border=\"1\" class=\"dataframe\">\n",
       "  <thead>\n",
       "    <tr style=\"text-align: right;\">\n",
       "      <th></th>\n",
       "      <th>Gender</th>\n",
       "      <th>AppointmentDay</th>\n",
       "      <th>Age</th>\n",
       "      <th>Location</th>\n",
       "      <th>Welfare</th>\n",
       "      <th>Hipertension</th>\n",
       "      <th>Diabetes</th>\n",
       "      <th>Alcoholism</th>\n",
       "      <th>Handcap</th>\n",
       "      <th>SMS_received</th>\n",
       "      <th>No_show</th>\n",
       "      <th>age_group</th>\n",
       "    </tr>\n",
       "  </thead>\n",
       "  <tbody>\n",
       "    <tr>\n",
       "      <th>6</th>\n",
       "      <td>F</td>\n",
       "      <td>2016-04-29</td>\n",
       "      <td>23</td>\n",
       "      <td>GOIABEIRAS</td>\n",
       "      <td>0</td>\n",
       "      <td>0</td>\n",
       "      <td>0</td>\n",
       "      <td>0</td>\n",
       "      <td>0</td>\n",
       "      <td>0</td>\n",
       "      <td>Yes</td>\n",
       "      <td>Under 25</td>\n",
       "    </tr>\n",
       "    <tr>\n",
       "      <th>7</th>\n",
       "      <td>F</td>\n",
       "      <td>2016-04-29</td>\n",
       "      <td>39</td>\n",
       "      <td>GOIABEIRAS</td>\n",
       "      <td>0</td>\n",
       "      <td>0</td>\n",
       "      <td>0</td>\n",
       "      <td>0</td>\n",
       "      <td>0</td>\n",
       "      <td>0</td>\n",
       "      <td>Yes</td>\n",
       "      <td>25 - 49</td>\n",
       "    </tr>\n",
       "    <tr>\n",
       "      <th>11</th>\n",
       "      <td>M</td>\n",
       "      <td>2016-04-29</td>\n",
       "      <td>29</td>\n",
       "      <td>NOVA PALESTINA</td>\n",
       "      <td>0</td>\n",
       "      <td>0</td>\n",
       "      <td>0</td>\n",
       "      <td>0</td>\n",
       "      <td>0</td>\n",
       "      <td>1</td>\n",
       "      <td>Yes</td>\n",
       "      <td>25 - 49</td>\n",
       "    </tr>\n",
       "    <tr>\n",
       "      <th>17</th>\n",
       "      <td>F</td>\n",
       "      <td>2016-04-29</td>\n",
       "      <td>40</td>\n",
       "      <td>CONQUISTA</td>\n",
       "      <td>1</td>\n",
       "      <td>0</td>\n",
       "      <td>0</td>\n",
       "      <td>0</td>\n",
       "      <td>0</td>\n",
       "      <td>0</td>\n",
       "      <td>Yes</td>\n",
       "      <td>25 - 49</td>\n",
       "    </tr>\n",
       "    <tr>\n",
       "      <th>20</th>\n",
       "      <td>F</td>\n",
       "      <td>2016-04-29</td>\n",
       "      <td>30</td>\n",
       "      <td>NOVA PALESTINA</td>\n",
       "      <td>0</td>\n",
       "      <td>0</td>\n",
       "      <td>0</td>\n",
       "      <td>0</td>\n",
       "      <td>0</td>\n",
       "      <td>0</td>\n",
       "      <td>Yes</td>\n",
       "      <td>25 - 49</td>\n",
       "    </tr>\n",
       "  </tbody>\n",
       "</table>\n",
       "</div>"
      ],
      "text/plain": [
       "   Gender AppointmentDay  Age        Location  Welfare  Hipertension  \\\n",
       "6       F     2016-04-29   23      GOIABEIRAS        0             0   \n",
       "7       F     2016-04-29   39      GOIABEIRAS        0             0   \n",
       "11      M     2016-04-29   29  NOVA PALESTINA        0             0   \n",
       "17      F     2016-04-29   40       CONQUISTA        1             0   \n",
       "20      F     2016-04-29   30  NOVA PALESTINA        0             0   \n",
       "\n",
       "    Diabetes  Alcoholism  Handcap  SMS_received No_show age_group  \n",
       "6          0           0        0             0     Yes  Under 25  \n",
       "7          0           0        0             0     Yes   25 - 49  \n",
       "11         0           0        0             1     Yes   25 - 49  \n",
       "17         0           0        0             0     Yes   25 - 49  \n",
       "20         0           0        0             0     Yes   25 - 49  "
      ]
     },
     "execution_count": 178,
     "metadata": {},
     "output_type": "execute_result"
    }
   ],
   "source": [
    "df_no_show.head()"
   ]
  },
  {
   "cell_type": "code",
   "execution_count": 179,
   "metadata": {},
   "outputs": [
    {
     "data": {
      "text/plain": [
       "Gender              2\n",
       "AppointmentDay     27\n",
       "Age               100\n",
       "Location           80\n",
       "Welfare             2\n",
       "Hipertension        2\n",
       "Diabetes            2\n",
       "Alcoholism          2\n",
       "Handcap             5\n",
       "SMS_received        2\n",
       "No_show             1\n",
       "age_group           4\n",
       "dtype: int64"
      ]
     },
     "execution_count": 179,
     "metadata": {},
     "output_type": "execute_result"
    }
   ],
   "source": [
    "#Just like we did for the df_show dataframe, this displays unique values by column in the df_no_show dataframe. \n",
    "#This is done to show that the 'No_show' column only has 1 value in this new dataframe. \n",
    "\n",
    "df_no_show.nunique()"
   ]
  },
  {
   "cell_type": "code",
   "execution_count": 180,
   "metadata": {},
   "outputs": [
    {
     "data": {
      "text/plain": [
       "(22319, 12)"
      ]
     },
     "execution_count": 180,
     "metadata": {},
     "output_type": "execute_result"
    }
   ],
   "source": [
    "#Verifying the shape of the new dataframe\n",
    "df_no_show.shape"
   ]
  },
  {
   "cell_type": "code",
   "execution_count": 181,
   "metadata": {},
   "outputs": [
    {
     "data": {
      "text/plain": [
       "(88208, 12)"
      ]
     },
     "execution_count": 181,
     "metadata": {},
     "output_type": "execute_result"
    }
   ],
   "source": [
    "#Verifying the shape of the new dataframe and ensuring that all the rows from the df dataframe are accounted for.\n",
    "df_show.shape"
   ]
  },
  {
   "cell_type": "markdown",
   "metadata": {},
   "source": [
    "# In the coming cells, we will begin analyzing individual characteristics and looking for correlations between those characteristics and no-show occurences.\n",
    "\n",
    "## Below we begin analyzing the gender to look for correlations between women and men missing appointments.\n"
   ]
  },
  {
   "cell_type": "code",
   "execution_count": 182,
   "metadata": {},
   "outputs": [
    {
     "data": {
      "text/plain": [
       "Text(0, 0.5, 'Proportions')"
      ]
     },
     "execution_count": 182,
     "metadata": {},
     "output_type": "execute_result"
    },
    {
     "data": {
      "image/png": "[encoded data removed]",
      "text/plain": [
       "<Figure size 432x288 with 1 Axes>"
      ]
     },
     "metadata": {
      "image/png": {
       "height": 306,
       "width": 385
      },
      "needs_background": "light"
     },
     "output_type": "display_data"
    }
   ],
   "source": [
    "#Creating the logic and formatting for the Proportion by No Show and Gender visualization.\n",
    "\n",
    "colors = ['pink', 'blue']\n",
    "counts = df.groupby(['No_show', 'Gender']).count()['Age']\n",
    "totals = df.groupby('Gender').count()['Age']\n",
    "proportions = counts / totals\n",
    "proportions.plot(kind='bar', title = 'Proportion by No Show and Gender', color = colors)\n",
    "plt.xlabel('Gender and No Show vs. Show')\n",
    "plt.ylabel('Proportions')"
   ]
  },
  {
   "cell_type": "markdown",
   "metadata": {},
   "source": [
    "#### The above visualization shows the proportion of women and men that showed up for, and did not show up for their appointments. Based on this chart, it appears that both women and men miss their appointments at an equal rate. "
   ]
  },
  {
   "cell_type": "code",
   "execution_count": 183,
   "metadata": {
    "scrolled": true
   },
   "outputs": [
    {
     "data": {
      "image/png": "[encoded data removed]",
      "text/plain": [
       "<Figure size 432x288 with 1 Axes>"
      ]
     },
     "metadata": {
      "image/png": {
       "height": 231,
       "width": 231
      }
     },
     "output_type": "display_data"
    }
   ],
   "source": [
    "#Creates a very simple pie chart to demonstrate the number of appointments for women vs men.\n",
    "glabels = ['Female', 'Male']\n",
    "plt.pie(totals, labels = glabels, colors = colors);"
   ]
  },
  {
   "cell_type": "markdown",
   "metadata": {},
   "source": [
    "#### The piechart above shows that women account for a substially higher number of medical appointments in this dataset. This is helpful to understand the demographics that the organization is treating. "
   ]
  },
  {
   "cell_type": "markdown",
   "metadata": {},
   "source": [
    "## Next, we will look at age to understand how this impacts the rate at which people miss their appointments. We will do this by using the age_group and age columns. \n",
    "\n"
   ]
  },
  {
   "cell_type": "code",
   "execution_count": 184,
   "metadata": {
    "scrolled": false
   },
   "outputs": [
    {
     "data": {
      "text/plain": [
       "Text(0.5, 1.0, 'Age Distribution')"
      ]
     },
     "execution_count": 184,
     "metadata": {},
     "output_type": "execute_result"
    },
    {
     "data": {
      "image/png": "[encoded data removed]",
      "text/plain": [
       "<Figure size 432x288 with 1 Axes>"
      ]
     },
     "metadata": {
      "image/png": {
       "height": 277,
       "width": 409
      },
      "needs_background": "light"
     },
     "output_type": "display_data"
    }
   ],
   "source": [
    "#Creates simple histogram giving a snapshot of the distribution of patient ages. \n",
    "\n",
    "ax = df['Age'].hist();\n",
    "ax.set_ylabel('Count')\n",
    "ax.set_xlabel('Age')\n",
    "ax.set_title('Age Distribution')\n"
   ]
  },
  {
   "cell_type": "markdown",
   "metadata": {},
   "source": [
    "#### Based on the histogram above, most of the patients scheduled are between the ages of 0 - 70. We will want to keep this in mind when analyzing the number of appointments missed by age. "
   ]
  },
  {
   "cell_type": "code",
   "execution_count": 185,
   "metadata": {
    "scrolled": true
   },
   "outputs": [
    {
     "data": {
      "text/plain": [
       "Text(0, 0.5, 'Proportions')"
      ]
     },
     "execution_count": 185,
     "metadata": {},
     "output_type": "execute_result"
    },
    {
     "data": {
      "image/png": "[encoded data removed]",
      "text/plain": [
       "<Figure size 432x288 with 1 Axes>"
      ]
     },
     "metadata": {
      "image/png": {
       "height": 344,
       "width": 385
      },
      "needs_background": "light"
     },
     "output_type": "display_data"
    }
   ],
   "source": [
    "# creates bar chart using groupby and proportions.\n",
    "\n",
    "colors = ['green', 'red']\n",
    "counts = df.groupby(['age_group','No_show']).count()['Age']\n",
    "totals = df.groupby('age_group').count()['Age']\n",
    "proportions = counts / totals\n",
    "proportions.plot(kind='bar', title = 'Proportion by No Show and Age Group', color = colors)\n",
    "plt.xlabel('Age Group and No Show')\n",
    "plt.ylabel('Proportions')\n"
   ]
  },
  {
   "cell_type": "markdown",
   "metadata": {},
   "source": [
    "#### The bar chart above is split out by age_group and whether or not a person made it to their appointment. Based on the chart, you can see that the age groups with the highest no-show rate are people under 25, and people between 25 - 49. This group makes up the majority of our patient population as shown in the histogram from earlier in this analysis. "
   ]
  },
  {
   "cell_type": "code",
   "execution_count": 186,
   "metadata": {
    "scrolled": false
   },
   "outputs": [
    {
     "data": {
      "text/plain": [
       "age_group  No_show\n",
       "25 - 49    No         78.370096\n",
       "           Yes        21.629904\n",
       "50 - 74    No         83.707395\n",
       "           Yes        16.292605\n",
       "75+        No         83.979111\n",
       "           Yes        16.020889\n",
       "Under 25   No         77.283460\n",
       "           Yes        22.716540\n",
       "Name: Age, dtype: float64"
      ]
     },
     "execution_count": 186,
     "metadata": {},
     "output_type": "execute_result"
    }
   ],
   "source": [
    "proportions*100"
   ]
  },
  {
   "cell_type": "markdown",
   "metadata": {},
   "source": [
    "#### The series above gives a textual breakdown of the 'Age Group and No Show' bar chart from the cell previous to it. It is interesting to see an ~5% difference in the no-show rate between the younger demographic (Under 50) and older demographic (50+). We should note that age may be linked to missing appointments and should be statistically investigated to look for causation. "
   ]
  },
  {
   "cell_type": "markdown",
   "metadata": {},
   "source": [
    "## Next we will dive into a person's welfare status to see if there are any correlations between that and missing appointments. \n",
    "\n"
   ]
  },
  {
   "cell_type": "code",
   "execution_count": 187,
   "metadata": {
    "scrolled": true
   },
   "outputs": [
    {
     "data": {
      "text/plain": [
       "Text(0, 0.5, 'Proportions')"
      ]
     },
     "execution_count": 187,
     "metadata": {},
     "output_type": "execute_result"
    },
    {
     "data": {
      "image/png": "[encoded data removed]",
      "text/plain": [
       "<Figure size 432x288 with 1 Axes>"
      ]
     },
     "metadata": {
      "image/png": {
       "height": 304,
       "width": 385
      },
      "needs_background": "light"
     },
     "output_type": "display_data"
    }
   ],
   "source": [
    "#Creates proportionate bar chart using group by.\n",
    "\n",
    "colors = ['Orange', 'red']\n",
    "counts = df.groupby(['Welfare','No_show']).count()['Age']\n",
    "totals = df.groupby('Welfare').count()['Age']\n",
    "proportions = counts / totals\n",
    "proportions.plot(kind='bar', title = 'Proportion by No Show and Welfare Status', color = colors)\n",
    "plt.xlabel('Welfare Status and No Show')\n",
    "plt.ylabel('Proportions')"
   ]
  },
  {
   "cell_type": "markdown",
   "metadata": {},
   "source": [
    "#### The bar chart above shows a slightly higher number of occurences of missing an appointment for those who are on welfare. This can be used to help us calculate actual demand for appointments vs those scheduled. "
   ]
  },
  {
   "cell_type": "code",
   "execution_count": 188,
   "metadata": {
    "scrolled": true
   },
   "outputs": [
    {
     "data": {
      "text/plain": [
       "Welfare  No_show\n",
       "0        No         80.192844\n",
       "         Yes        19.807156\n",
       "1        No         76.263696\n",
       "         Yes        23.736304\n",
       "Name: Age, dtype: float64"
      ]
     },
     "execution_count": 188,
     "metadata": {},
     "output_type": "execute_result"
    }
   ],
   "source": [
    "proportions*100"
   ]
  },
  {
   "cell_type": "markdown",
   "metadata": {},
   "source": [
    "#### The above cell is a textual representation of the 'Welfare Status and No Show' bar chart. You can see that people on welfare are almost missing appointments 4% more than those not on welfare. We should note from this information that welfare status should also be investigated further statistically as it may be linked to a higher rate of missing appointments. "
   ]
  },
  {
   "cell_type": "markdown",
   "metadata": {},
   "source": [
    "## Next we will look for correlations between those with alcoholism and missed appointments."
   ]
  },
  {
   "cell_type": "code",
   "execution_count": 189,
   "metadata": {},
   "outputs": [
    {
     "data": {
      "text/plain": [
       "Text(0, 0.5, 'Proportions')"
      ]
     },
     "execution_count": 189,
     "metadata": {},
     "output_type": "execute_result"
    },
    {
     "data": {
      "image/png": "[encoded data removed]",
      "text/plain": [
       "<Figure size 432x288 with 1 Axes>"
      ]
     },
     "metadata": {
      "image/png": {
       "height": 304,
       "width": 385
      },
      "needs_background": "light"
     },
     "output_type": "display_data"
    }
   ],
   "source": [
    "#Creates proportionate bar chart grouping by Alcoholism and No_show columns.\n",
    "\n",
    "colors = ['Green', 'Black']\n",
    "counts = df.groupby(['Alcoholism','No_show']).count()['Age']\n",
    "totals = df.groupby('Alcoholism').count()['Age']\n",
    "proportions = counts / totals\n",
    "proportions.plot(kind='bar', title = 'Proportion by No Show and Alcoholism', color = colors)\n",
    "plt.xlabel('Alcoholism and No Show')\n",
    "plt.ylabel('Proportions')"
   ]
  },
  {
   "cell_type": "markdown",
   "metadata": {},
   "source": [
    "#### The bar chart above appears to show no correlation between alcoholism and missed appointments. "
   ]
  },
  {
   "cell_type": "code",
   "execution_count": 190,
   "metadata": {},
   "outputs": [
    {
     "data": {
      "text/plain": [
       "Alcoholism  No_show\n",
       "0           No         79.805351\n",
       "            Yes        20.194649\n",
       "1           No         79.851190\n",
       "            Yes        20.148810\n",
       "Name: Age, dtype: float64"
      ]
     },
     "execution_count": 190,
     "metadata": {},
     "output_type": "execute_result"
    }
   ],
   "source": [
    "proportions*100"
   ]
  },
  {
   "cell_type": "markdown",
   "metadata": {},
   "source": [
    "#### The textual representation above shows that the % of alcoholics and non-alcoholics missing appointments is almost identical. We may not need to take alcoholism into consideration when planning for actual demand. "
   ]
  },
  {
   "cell_type": "markdown",
   "metadata": {},
   "source": [
    "## Finally, we will analyze the handicapped individuals to see if there is any correlation between certain disabilities and missing appointments.\n",
    "\n"
   ]
  },
  {
   "cell_type": "code",
   "execution_count": 191,
   "metadata": {},
   "outputs": [
    {
     "data": {
      "text/plain": [
       "Text(0, 0.5, 'Proportions')"
      ]
     },
     "execution_count": 191,
     "metadata": {},
     "output_type": "execute_result"
    },
    {
     "data": {
      "image/png": "[encoded data removed]",
      "text/plain": [
       "<Figure size 432x288 with 1 Axes>"
      ]
     },
     "metadata": {
      "image/png": {
       "height": 304,
       "width": 385
      },
      "needs_background": "light"
     },
     "output_type": "display_data"
    }
   ],
   "source": [
    "#Creates proportionate bar chart grouping by Handicap and No_show columns.\n",
    "\n",
    "colors = ['Yellow', 'Gray']\n",
    "counts = df.groupby(['Handcap', 'No_show']).count()['Age']\n",
    "totals = df.groupby('Handcap').count()['Age']\n",
    "proportions = counts / totals\n",
    "proportions.plot(kind='bar', title = 'Proportion by No Show and Handicap', color = colors)\n",
    "plt.xlabel('Handicapped and No Show')\n",
    "plt.ylabel('Proportions')"
   ]
  },
  {
   "cell_type": "markdown",
   "metadata": {},
   "source": [
    "#### The chart above shows that those without a handicap (handcap = 0) are very similar in liklihood to miss an upcoming appointment as those with disabilities 1, 2, and 3 (handcaps 1,2,3). This representation also shows that those with disability 4 (handcap = 4) are missing appointments significantly more often than those with other handicaps, or without having any handicaps."
   ]
  },
  {
   "cell_type": "code",
   "execution_count": 192,
   "metadata": {
    "scrolled": true
   },
   "outputs": [
    {
     "data": {
      "text/plain": [
       "Handcap  No_show\n",
       "0        No         79.764697\n",
       "         Yes        20.235303\n",
       "1        No         82.076396\n",
       "         Yes        17.923604\n",
       "2        No         79.781421\n",
       "         Yes        20.218579\n",
       "3        No         76.923077\n",
       "         Yes        23.076923\n",
       "4        No         66.666667\n",
       "         Yes        33.333333\n",
       "Name: Age, dtype: float64"
      ]
     },
     "execution_count": 192,
     "metadata": {},
     "output_type": "execute_result"
    }
   ],
   "source": [
    "proportions*100"
   ]
  },
  {
   "cell_type": "markdown",
   "metadata": {},
   "source": [
    "#### The textual representation above shows that those without disability, and those with disabilities 1, 2, and 3 miss appointments ~20% of the time.. It also shows that individuals with disability 4  have a much higher % of missing their appointment at ~33% according to this dataset. We should note this disability as needing further exploration statistically to explore causation between it and missing appointments. "
   ]
  },
  {
   "cell_type": "markdown",
   "metadata": {},
   "source": [
    "## In the below cells, we will be looking into the date of the appointment to see if there is any correlation between date and the amount of people missing appointments."
   ]
  },
  {
   "cell_type": "code",
   "execution_count": 193,
   "metadata": {},
   "outputs": [
    {
     "data": {
      "text/plain": [
       "Timestamp('2016-06-08 00:00:00')"
      ]
     },
     "execution_count": 193,
     "metadata": {},
     "output_type": "execute_result"
    }
   ],
   "source": [
    "#Finding the last day in the dataset\n",
    "df['AppointmentDay'].max()\n"
   ]
  },
  {
   "cell_type": "markdown",
   "metadata": {},
   "source": [
    "#### Above, I am finding the last day in the dataset to help me understand the upper limit to be used in breaking the data into blocks later. "
   ]
  },
  {
   "cell_type": "code",
   "execution_count": 194,
   "metadata": {},
   "outputs": [
    {
     "data": {
      "text/plain": [
       "Timestamp('2016-04-29 00:00:00')"
      ]
     },
     "execution_count": 194,
     "metadata": {},
     "output_type": "execute_result"
    }
   ],
   "source": [
    "#Finding the first day in the dataset\n",
    "df['AppointmentDay'].min()\n"
   ]
  },
  {
   "cell_type": "markdown",
   "metadata": {},
   "source": [
    "#### Above, I am finding the first day in the dataset to help me in creating date blocks later."
   ]
  },
  {
   "cell_type": "code",
   "execution_count": 195,
   "metadata": {},
   "outputs": [
    {
     "data": {
      "text/plain": [
       "Timedelta('40 days 00:00:00')"
      ]
     },
     "execution_count": 195,
     "metadata": {},
     "output_type": "execute_result"
    }
   ],
   "source": [
    "#Finding total # of days in the dataset. \n",
    "df['AppointmentDay'].max() - df['AppointmentDay'].min()"
   ]
  },
  {
   "cell_type": "markdown",
   "metadata": {},
   "source": [
    "#### Above I am checking for the number of total days in the dataset. This is to guide me in splitting the days into blocks later. "
   ]
  },
  {
   "cell_type": "code",
   "execution_count": 196,
   "metadata": {},
   "outputs": [
    {
     "data": {
      "text/plain": [
       "110527"
      ]
     },
     "execution_count": 196,
     "metadata": {},
     "output_type": "execute_result"
    }
   ],
   "source": [
    "#Creating 4 new datasets representative of 10 day blocks.\n",
    "df_10 = df.query('AppointmentDay <= \"2016-05-07\"')\n",
    "df_20 = df.query('AppointmentDay > \"2016-05-07\" and AppointmentDay <= \"2016-05-17\"')\n",
    "df_30 = df.query('AppointmentDay > \"2016-05-17\" and AppointmentDay <= \"2016-05-28\"')\n",
    "df_40 = df.query('AppointmentDay > \"2016-05-28\"')\n",
    "df_40.count()['Age'] + df_30.count()['Age']+ df_20.count()['Age'] + + df_10.count()['Age']"
   ]
  },
  {
   "cell_type": "markdown",
   "metadata": {},
   "source": [
    "#### Above, I create 4 new dataframes by splitting the data by 10 day blocks. I then run a calculation at the end to make sure my dataframes include all of the data in the dataset. "
   ]
  },
  {
   "cell_type": "code",
   "execution_count": 197,
   "metadata": {},
   "outputs": [],
   "source": [
    "#Creating variables for each of the value counts to be used in an array later for plotting. \n",
    "\n",
    "show_x_10 = df_10['No_show'].value_counts()[0]\n",
    "noshow_x_10 = df_10['No_show'].value_counts()[1]\n",
    "x_10 = df_10.count()['Age']\n",
    "\n",
    "show_x_20 = df_20['No_show'].value_counts()[0]\n",
    "noshow_x_20 = df_20['No_show'].value_counts()[1]\n",
    "x_20 = df_20.count()['Age']\n",
    "\n",
    "show_x_30 = df_30['No_show'].value_counts()[0]\n",
    "noshow_x_30 = df_30['No_show'].value_counts()[1]\n",
    "x_30 = df_30.count()['Age']\n",
    "\n",
    "show_x_40 = df_40['No_show'].value_counts()[0]\n",
    "noshow_x_40 = df_40['No_show'].value_counts()[1]\n",
    "x_40 = df_40.count()['Age']\n"
   ]
  },
  {
   "cell_type": "markdown",
   "metadata": {},
   "source": [
    "#### The above cell is used to create 3 variables from the 4 date block dataframes created previously. These variables will be used to create arrays for the purpose of plotting a visualization in the next cell."
   ]
  },
  {
   "cell_type": "code",
   "execution_count": 198,
   "metadata": {},
   "outputs": [],
   "source": [
    "#Creating 3 arrays using Numpy to store values for line chart visualization.\n",
    "\n",
    "show_array = np.array([show_x_10,show_x_20,show_x_30,show_x_40])\n",
    "no_show_array = np.array([noshow_x_10,noshow_x_20,noshow_x_30,noshow_x_40])\n",
    "total_array = np.array([x_10,x_20,x_30,x_40])\n",
    "\n"
   ]
  },
  {
   "cell_type": "markdown",
   "metadata": {},
   "source": [
    "#### Above, I create 3 arrays using the variables created on the date block dataframes. These will be used to create a visualization in the next cell."
   ]
  },
  {
   "cell_type": "code",
   "execution_count": 199,
   "metadata": {},
   "outputs": [
    {
     "data": {
      "image/png": "[encoded data removed]",
      "text/plain": [
       "<Figure size 432x288 with 1 Axes>"
      ]
     },
     "metadata": {
      "image/png": {
       "height": 277,
       "width": 410
      },
      "needs_background": "light"
     },
     "output_type": "display_data"
    }
   ],
   "source": [
    "#Creates and formats lineplot of the arrays created in the previous cell.\n",
    "\n",
    "plt.plot(no_show_array, linewidth = '4', c = 'red', label = 'Missed Apts');\n",
    "plt.plot(total_array, linewidth = '4', c = 'green', label = 'Total Apts');\n",
    "plt.plot(show_array, linewidth = '4', c = 'blue', label = 'Made Apts');\n",
    "plt.xlabel('10 Day Intervals');\n",
    "plt.ylabel('Appointment Count');\n",
    "plt.title('Appointments by Interval');\n",
    "plt.legend();\n",
    "plt.xticks([0,1,2,3], [\"4/29 - 5/7\", \"5/8 - 5/17\", \"5/18 - 5/28\", \"5/29 - 6/8\"]);"
   ]
  },
  {
   "cell_type": "code",
   "execution_count": 200,
   "metadata": {},
   "outputs": [
    {
     "name": "stdout",
     "output_type": "stream",
     "text": [
      "[4900 6631 4251 6537]\n",
      "[24187 30707 20389 35244]\n"
     ]
    }
   ],
   "source": [
    "print(no_show_array)\n",
    "print(total_array)"
   ]
  },
  {
   "cell_type": "markdown",
   "metadata": {},
   "source": [
    "#### Above plot displays the number of total appointments, made appointments, and missed appointments split up into 10 day blocks to help us see if there are any trends in when people are missing appointments. Based on the visualization, it appears that people missing appointments closely follows the number of total appointments. However, it is interesting to note that the number of missed appointments stays between 4 - 6k, even though the variation between number of total appointments is much higher. We should note that further statistical analysis will be needed to investigate this to determine causation/correlation. "
   ]
  },
  {
   "cell_type": "markdown",
   "metadata": {},
   "source": [
    "# Research Question 2 : Is our SMS reminder system effective and if so, is there a particular demographic of person that it is and is not effective for?"
   ]
  },
  {
   "cell_type": "markdown",
   "metadata": {},
   "source": [
    "## Below we are looking into the impact that receiving an SMS reminder has on the liklihood to miss an appointment."
   ]
  },
  {
   "cell_type": "code",
   "execution_count": 201,
   "metadata": {
    "scrolled": true
   },
   "outputs": [
    {
     "data": {
      "text/plain": [
       "Text(0, 0.5, 'Proportions')"
      ]
     },
     "execution_count": 201,
     "metadata": {},
     "output_type": "execute_result"
    },
    {
     "data": {
      "image/png": "[encoded data removed]",
      "text/plain": [
       "<Figure size 432x288 with 1 Axes>"
      ]
     },
     "metadata": {
      "image/png": {
       "height": 304,
       "width": 385
      },
      "needs_background": "light"
     },
     "output_type": "display_data"
    }
   ],
   "source": [
    "#Creates proportionate bar chart grouping by SMS_received and No_show columns.\n",
    "colors = ['Purple', 'Orange']\n",
    "counts = df.groupby(['SMS_received', 'No_show']).count()['Age']\n",
    "totals = df.groupby('SMS_received').count()['Age']\n",
    "proportions = counts / totals\n",
    "proportions.plot(kind='bar', title = 'Proportion by No Show and SMS Received', color = colors)\n",
    "plt.xlabel('SMS Received and No Show')\n",
    "plt.ylabel('Proportions')"
   ]
  },
  {
   "cell_type": "markdown",
   "metadata": {},
   "source": [
    "#### Interestingly, the chart above shows us that those who received an SMS reminder missed their appointment at a higher rate than those who did not receive the reminder.."
   ]
  },
  {
   "cell_type": "code",
   "execution_count": 202,
   "metadata": {
    "scrolled": false
   },
   "outputs": [
    {
     "data": {
      "text/plain": [
       "SMS_received  No_show\n",
       "0             No         83.296689\n",
       "              Yes        16.703311\n",
       "1             No         72.425455\n",
       "              Yes        27.574545\n",
       "Name: Age, dtype: float64"
      ]
     },
     "execution_count": 202,
     "metadata": {},
     "output_type": "execute_result"
    }
   ],
   "source": [
    "proportions*100"
   ]
  },
  {
   "cell_type": "markdown",
   "metadata": {},
   "source": [
    "#### The textual representation above shows that those who did receive the sms reminder missed their appointments ~11% more than those who didn't receive the reminder."
   ]
  },
  {
   "cell_type": "code",
   "execution_count": 203,
   "metadata": {
    "scrolled": true
   },
   "outputs": [
    {
     "data": {
      "text/html": [
       "<div>\n",
       "<style scoped>\n",
       "    .dataframe tbody tr th:only-of-type {\n",
       "        vertical-align: middle;\n",
       "    }\n",
       "\n",
       "    .dataframe tbody tr th {\n",
       "        vertical-align: top;\n",
       "    }\n",
       "\n",
       "    .dataframe thead th {\n",
       "        text-align: right;\n",
       "    }\n",
       "</style>\n",
       "<table border=\"1\" class=\"dataframe\">\n",
       "  <thead>\n",
       "    <tr style=\"text-align: right;\">\n",
       "      <th></th>\n",
       "      <th>Gender</th>\n",
       "      <th>AppointmentDay</th>\n",
       "      <th>Age</th>\n",
       "      <th>Location</th>\n",
       "      <th>Welfare</th>\n",
       "      <th>Hipertension</th>\n",
       "      <th>Diabetes</th>\n",
       "      <th>Alcoholism</th>\n",
       "      <th>Handcap</th>\n",
       "      <th>SMS_received</th>\n",
       "      <th>No_show</th>\n",
       "      <th>age_group</th>\n",
       "    </tr>\n",
       "  </thead>\n",
       "  <tbody>\n",
       "    <tr>\n",
       "      <th>0</th>\n",
       "      <td>F</td>\n",
       "      <td>2016-04-29</td>\n",
       "      <td>62</td>\n",
       "      <td>JARDIM DA PENHA</td>\n",
       "      <td>0</td>\n",
       "      <td>1</td>\n",
       "      <td>0</td>\n",
       "      <td>0</td>\n",
       "      <td>0</td>\n",
       "      <td>0</td>\n",
       "      <td>No</td>\n",
       "      <td>50 - 74</td>\n",
       "    </tr>\n",
       "    <tr>\n",
       "      <th>1</th>\n",
       "      <td>M</td>\n",
       "      <td>2016-04-29</td>\n",
       "      <td>56</td>\n",
       "      <td>JARDIM DA PENHA</td>\n",
       "      <td>0</td>\n",
       "      <td>0</td>\n",
       "      <td>0</td>\n",
       "      <td>0</td>\n",
       "      <td>0</td>\n",
       "      <td>0</td>\n",
       "      <td>No</td>\n",
       "      <td>50 - 74</td>\n",
       "    </tr>\n",
       "    <tr>\n",
       "      <th>2</th>\n",
       "      <td>F</td>\n",
       "      <td>2016-04-29</td>\n",
       "      <td>62</td>\n",
       "      <td>MATA DA PRAIA</td>\n",
       "      <td>0</td>\n",
       "      <td>0</td>\n",
       "      <td>0</td>\n",
       "      <td>0</td>\n",
       "      <td>0</td>\n",
       "      <td>0</td>\n",
       "      <td>No</td>\n",
       "      <td>50 - 74</td>\n",
       "    </tr>\n",
       "    <tr>\n",
       "      <th>4</th>\n",
       "      <td>F</td>\n",
       "      <td>2016-04-29</td>\n",
       "      <td>56</td>\n",
       "      <td>JARDIM DA PENHA</td>\n",
       "      <td>0</td>\n",
       "      <td>1</td>\n",
       "      <td>1</td>\n",
       "      <td>0</td>\n",
       "      <td>0</td>\n",
       "      <td>0</td>\n",
       "      <td>No</td>\n",
       "      <td>50 - 74</td>\n",
       "    </tr>\n",
       "    <tr>\n",
       "      <th>14</th>\n",
       "      <td>F</td>\n",
       "      <td>2016-04-29</td>\n",
       "      <td>54</td>\n",
       "      <td>NOVA PALESTINA</td>\n",
       "      <td>0</td>\n",
       "      <td>0</td>\n",
       "      <td>0</td>\n",
       "      <td>0</td>\n",
       "      <td>0</td>\n",
       "      <td>0</td>\n",
       "      <td>No</td>\n",
       "      <td>50 - 74</td>\n",
       "    </tr>\n",
       "  </tbody>\n",
       "</table>\n",
       "</div>"
      ],
      "text/plain": [
       "   Gender AppointmentDay  Age         Location  Welfare  Hipertension  \\\n",
       "0       F     2016-04-29   62  JARDIM DA PENHA        0             1   \n",
       "1       M     2016-04-29   56  JARDIM DA PENHA        0             0   \n",
       "2       F     2016-04-29   62    MATA DA PRAIA        0             0   \n",
       "4       F     2016-04-29   56  JARDIM DA PENHA        0             1   \n",
       "14      F     2016-04-29   54   NOVA PALESTINA        0             0   \n",
       "\n",
       "    Diabetes  Alcoholism  Handcap  SMS_received No_show age_group  \n",
       "0          0           0        0             0      No   50 - 74  \n",
       "1          0           0        0             0      No   50 - 74  \n",
       "2          0           0        0             0      No   50 - 74  \n",
       "4          1           0        0             0      No   50 - 74  \n",
       "14         0           0        0             0      No   50 - 74  "
      ]
     },
     "execution_count": 203,
     "metadata": {},
     "output_type": "execute_result"
    }
   ],
   "source": [
    "#Creates 4 new dataframes for the purpose of comparing age groups against sms_reminders. \n",
    "df_under25 = df.query('age_group == \"Under 25\"')\n",
    "df_25to49 = df.query('age_group == \"25 - 49\"')\n",
    "df_50to74 = df.query('age_group == \"50 - 74\"')\n",
    "df_75u = df.query('age_group == \"75+\"')\n",
    "\n",
    "\n",
    "df_50to74.head()"
   ]
  },
  {
   "cell_type": "markdown",
   "metadata": {},
   "source": [
    "## Below we are looking at the proportions of people who missed an appointment and did/didn't recieve the sms_reminder for the under 25 age group."
   ]
  },
  {
   "cell_type": "code",
   "execution_count": 204,
   "metadata": {
    "scrolled": true
   },
   "outputs": [
    {
     "data": {
      "text/plain": [
       "Text(0, 0.5, 'Proportions')"
      ]
     },
     "execution_count": 204,
     "metadata": {},
     "output_type": "execute_result"
    },
    {
     "data": {
      "image/png": "[encoded data removed]",
      "text/plain": [
       "<Figure size 432x288 with 1 Axes>"
      ]
     },
     "metadata": {
      "image/png": {
       "height": 304,
       "width": 385
      },
      "needs_background": "light"
     },
     "output_type": "display_data"
    }
   ],
   "source": [
    "##Creates proportionate bar chart grouping by SMS_received and No_show columns applied to the df_under25 dataframe.\n",
    "colors = ['Purple', 'Orange']\n",
    "counts = df_under25.groupby(['SMS_received', 'No_show']).count()['Age']\n",
    "totals = df_under25.groupby('SMS_received').count()['Age']\n",
    "proportions = counts / totals\n",
    "proportions.plot(kind='bar', title = 'Proportion by No Show and SMS Received (UNDER 25)', color = colors)\n",
    "plt.xlabel('SMS Received and No Show')\n",
    "plt.ylabel('Proportions')"
   ]
  },
  {
   "cell_type": "markdown",
   "metadata": {},
   "source": [
    "#### The chart above shows that those in the under 25 group that did receive the reminder missed their appointments at a higher rate than those who didn't receive the reminder."
   ]
  },
  {
   "cell_type": "code",
   "execution_count": 205,
   "metadata": {
    "scrolled": true
   },
   "outputs": [
    {
     "data": {
      "text/plain": [
       "SMS_received  No_show\n",
       "0             No         81.442980\n",
       "              Yes        18.557020\n",
       "1             No         67.834255\n",
       "              Yes        32.165745\n",
       "Name: Age, dtype: float64"
      ]
     },
     "execution_count": 205,
     "metadata": {},
     "output_type": "execute_result"
    }
   ],
   "source": [
    "proportions*100"
   ]
  },
  {
   "cell_type": "markdown",
   "metadata": {},
   "source": [
    "#### Textual represetation above shows that those in the under 25 age group missed appointments ~14% more than those who didn't receive the reminder."
   ]
  },
  {
   "cell_type": "markdown",
   "metadata": {},
   "source": [
    "## Next, we will look at at the proportions of people who missed an appointment and did/didn't recieve the sms_reminder for 25 - 49 age group."
   ]
  },
  {
   "cell_type": "code",
   "execution_count": 206,
   "metadata": {},
   "outputs": [
    {
     "data": {
      "text/plain": [
       "Text(0, 0.5, 'Proportions')"
      ]
     },
     "execution_count": 206,
     "metadata": {},
     "output_type": "execute_result"
    },
    {
     "data": {
      "image/png": "[encoded data removed]",
      "text/plain": [
       "<Figure size 432x288 with 1 Axes>"
      ]
     },
     "metadata": {
      "image/png": {
       "height": 304,
       "width": 385
      },
      "needs_background": "light"
     },
     "output_type": "display_data"
    }
   ],
   "source": [
    "colors = ['Purple', 'Orange']\n",
    "counts = df_25to49.groupby(['SMS_received', 'No_show']).count()['Age']\n",
    "totals = df_25to49.groupby('SMS_received').count()['Age']\n",
    "proportions = counts / totals\n",
    "proportions.plot(kind='bar', title = 'Proportion by No Show and SMS Received (25 - 49)', color = colors)\n",
    "plt.xlabel('SMS Received and No Show')\n",
    "plt.ylabel('Proportions')"
   ]
  },
  {
   "cell_type": "markdown",
   "metadata": {},
   "source": [
    "#### Once again, the chart shows that those who received the reminder missed their appointments more than those who didn't receive it. "
   ]
  },
  {
   "cell_type": "code",
   "execution_count": 207,
   "metadata": {
    "scrolled": true
   },
   "outputs": [
    {
     "data": {
      "text/plain": [
       "SMS_received  No_show\n",
       "0             No         82.607254\n",
       "              Yes        17.392746\n",
       "1             No         69.920648\n",
       "              Yes        30.079352\n",
       "Name: Age, dtype: float64"
      ]
     },
     "execution_count": 207,
     "metadata": {},
     "output_type": "execute_result"
    }
   ],
   "source": [
    "proportions*100"
   ]
  },
  {
   "cell_type": "markdown",
   "metadata": {},
   "source": [
    "#### The textual representation above shows that those aged 25-49 who received the reminder missed their appointments ~13% more often than those who didn't receive the reminder. "
   ]
  },
  {
   "cell_type": "markdown",
   "metadata": {},
   "source": [
    "## Below we move on to the 50 - 74 age group looking at how the sms reminder impacts the liklihood that they show up for their appointment."
   ]
  },
  {
   "cell_type": "code",
   "execution_count": 208,
   "metadata": {
    "scrolled": true
   },
   "outputs": [
    {
     "data": {
      "text/plain": [
       "Text(0, 0.5, 'Proportions')"
      ]
     },
     "execution_count": 208,
     "metadata": {},
     "output_type": "execute_result"
    },
    {
     "data": {
      "image/png": "[encoded data removed]",
      "text/plain": [
       "<Figure size 432x288 with 1 Axes>"
      ]
     },
     "metadata": {
      "image/png": {
       "height": 304,
       "width": 385
      },
      "needs_background": "light"
     },
     "output_type": "display_data"
    }
   ],
   "source": [
    "colors = ['Purple', 'Orange']\n",
    "counts = df_50to74.groupby(['SMS_received', 'No_show']).count()['Age']\n",
    "totals = df_50to74.groupby('SMS_received').count()['Age']\n",
    "proportions = counts / totals\n",
    "proportions.plot(kind='bar', title = 'Proportion by No Show and SMS Received (50 - 74)', color = colors)\n",
    "plt.xlabel('SMS Received and No Show')\n",
    "plt.ylabel('Proportions')"
   ]
  },
  {
   "cell_type": "markdown",
   "metadata": {},
   "source": [
    "#### Not suprisingly, those who received the reminder missed their appointments more often than those who did not receive the reminder. "
   ]
  },
  {
   "cell_type": "code",
   "execution_count": 209,
   "metadata": {
    "scrolled": true
   },
   "outputs": [
    {
     "data": {
      "text/plain": [
       "SMS_received  No_show\n",
       "0             No         85.891196\n",
       "              Yes        14.108804\n",
       "1             No         79.327341\n",
       "              Yes        20.672659\n",
       "Name: Age, dtype: float64"
      ]
     },
     "execution_count": 209,
     "metadata": {},
     "output_type": "execute_result"
    }
   ],
   "source": [
    "proportions*100"
   ]
  },
  {
   "cell_type": "markdown",
   "metadata": {},
   "source": [
    "#### Textual representation above shows a slightly better impact from the sms reminder. Only 6% more people who did receive the reminder missed their appointment when compared to those who didn't receive the reminder. "
   ]
  },
  {
   "cell_type": "markdown",
   "metadata": {},
   "source": [
    "## Finally, we analyze the 75+ age group looking at the relationship between receiving the reminder and missing their appointment."
   ]
  },
  {
   "cell_type": "code",
   "execution_count": 210,
   "metadata": {},
   "outputs": [
    {
     "data": {
      "text/plain": [
       "Text(0, 0.5, 'Proportions')"
      ]
     },
     "execution_count": 210,
     "metadata": {},
     "output_type": "execute_result"
    },
    {
     "data": {
      "image/png": "[encoded data removed]",
      "text/plain": [
       "<Figure size 432x288 with 1 Axes>"
      ]
     },
     "metadata": {
      "image/png": {
       "height": 304,
       "width": 385
      },
      "needs_background": "light"
     },
     "output_type": "display_data"
    }
   ],
   "source": [
    "colors = ['Purple', 'Orange']\n",
    "counts = df_75u.groupby(['SMS_received', 'No_show']).count()['Age']\n",
    "totals = df_75u.groupby('SMS_received').count()['Age']\n",
    "proportions = counts / totals\n",
    "proportions.plot(kind='bar', title = 'Proportion by No Show and SMS Received (Over 75)', color = colors)\n",
    "plt.xlabel('SMS Received and No Show')\n",
    "plt.ylabel('Proportions')"
   ]
  },
  {
   "cell_type": "markdown",
   "metadata": {},
   "source": [
    "#### Again here, those who received the reminder do not show up for their appointments as often as those who did not receive the reminder."
   ]
  },
  {
   "cell_type": "code",
   "execution_count": 211,
   "metadata": {
    "scrolled": true
   },
   "outputs": [
    {
     "data": {
      "text/plain": [
       "SMS_received  No_show\n",
       "0             No         85.804196\n",
       "              Yes        14.195804\n",
       "1             No         79.222357\n",
       "              Yes        20.777643\n",
       "Name: Age, dtype: float64"
      ]
     },
     "execution_count": 211,
     "metadata": {},
     "output_type": "execute_result"
    }
   ],
   "source": [
    "proportions*100"
   ]
  },
  {
   "cell_type": "code",
   "execution_count": 212,
   "metadata": {},
   "outputs": [
    {
     "data": {
      "text/plain": [
       "(110527, 12)"
      ]
     },
     "execution_count": 212,
     "metadata": {},
     "output_type": "execute_result"
    }
   ],
   "source": [
    "df.shape"
   ]
  },
  {
   "cell_type": "markdown",
   "metadata": {},
   "source": [
    "#### The textual representation shows those who didn't receive the reminder attended their appointments ~6% more than those who didn't receive the reminder. "
   ]
  },
  {
   "cell_type": "markdown",
   "metadata": {},
   "source": [
    "## Conclusions\n",
    "\n",
    "In this report, we analyzed 110,527 data samples from hospital visits in Brazil. The samples were gathered from 40 days of appointments between 4/29 and 6/8 of 2016. Our goal for this report was to look for information to help us answer the following questions. \n",
    " \n",
    "### Research Question 1: Which characteristics make a person more likely to miss their appointment?\n",
    "\n",
    "#### To help us answer this question, we selected several of the most interesting characteristics of each sample to analyze looking for potential correlations. We analyzed Gender, Age, Welfare Status, Alcoholism Status, Handicap Status, and Appointment Date in search for interesting observations. Although we did uncover some pretty interesting facts, this report does not leverage the statistical analysis needed to determine causation for correlation between any of these factors. Additional statistal analysis will need to be undertaken in order to investigate the observations noted in this report. However, those statiscal analysis' are out of scope for this project.\n",
    "\n",
    "#### In regards to Gender, we did not uncover any interesting observations. Our analysis shows that men and women missed their appointments at the same rate. \n",
    "\n",
    "#### When looking into Age, we were able to see that people under 50 missed appointments more often than those over 50. It would be important to conduct further statistical analysis to explore the link between age and missing appointments.\n",
    "\n",
    "#### For Welfare Status, we found that more often, people on Welfare missed appointments than those who were not on Welfare. It would certainly benefit us to conduct further statistical analysis here in order to determine if there is indeed correlation.\n",
    "\n",
    "#### After exploring the data for Alcoholics, it appears from our analysis that alcoholics and non-alcoholics missed appointments at the same rate. Based on this, we may not need to explore for any causation using statistical analysis.\n",
    "\n",
    "#### In looking at Handicap Status, we found that people with handicap status 4 missed appointments more often than those with any other handicap. We observed that those without handicap and those with handicaps 1, 2, and 3 missed appointments at approximately the same rate. It would be interesting to explore the causation/correlation between handicap status 4 and missing appointments using statistical analysis. \n",
    "\n",
    "#### Finally, when analyzing the data split up into 10 day periods, it appears to us from the data that the number of appointments missed closely follows the number of total appointments during each period. We also observed that the number of appointments missed in each of the 10 day blocks stayed between 4 - 6 thousand, even though in some periods, the variation in the number of total appointments was much higher. It would be important to explore this further using statistical analysis before determining if the date has any correlation to people missing appointments.  \n",
    "\n",
    "\n",
    "### Research Question 2 : Is our SMS reminder system effective and if so, is there a particular demographic of person that it is and is not effective for?\n",
    "\n",
    "#### To help us answer this question, we took the total number of people received the SMS reminder and compared it to the total number of people who did not receive the reminder. Our analysis shows that the people who received the reminder missed their appointments more often than those who did not receive the reminder. This begs the question, what kind of reminder process is being used for people who do not receive the sms? Do they receive and email? A phone call? This would be an important thing for us to understand. \n",
    "\n",
    "#### To take the analyis one step further, we split the data up by age group to see if the sms reminder was more or less effective for certain demographics. We found that the people who received sms messages over the age of 50 missed less appointments than those who received the sms reminder under the age of 50. However, in all age groups, the people receiving the sms reminder missed their appointments more often than those who did not receive the reminder.\n",
    "\n",
    "#### To conclude on this second question, more analysis needs to be undertaken to explore correlation between age, sms received rate, and no show rate. It would also be important to find out what other means of reminders we are using other than the sms process.\n",
    "\n",
    "\n",
    "## Thanks for reading!\n"
   ]
  }
 ],
 "metadata": {
  "kernelspec": {
   "display_name": "Python 3 (ipykernel)",
   "language": "python",
   "name": "python3"
  },
  "language_info": {
   "codemirror_mode": {
    "name": "ipython",
    "version": 3
   },
   "file_extension": ".py",
   "mimetype": "text/x-python",
   "name": "python",
   "nbconvert_exporter": "python",
   "pygments_lexer": "ipython3",
   "version": "3.9.12"
  }
 },
 "nbformat": 4,
 "nbformat_minor": 2
}
